{
 "cells": [
  {
   "cell_type": "markdown",
   "metadata": {},
   "source": [
    "## <center> Bisection Method</center>"
   ]
  },
  {
   "cell_type": "markdown",
   "metadata": {},
   "source": [
    "#### Conditions to apply bisection method"
   ]
  },
  {
   "cell_type": "markdown",
   "metadata": {},
   "source": [
    "<ol>\n",
    "    <li>f(x) real and continuous </li>\n",
    "    <li> f(a) *  f(b) should be -ve </li>\n",
    "    <li> There will be at least one root </li>\n",
    "    \n",
    "</ol>"
   ]
  },
  {
   "cell_type": "markdown",
   "metadata": {},
   "source": [
    "##### Equation"
   ]
  },
  {
   "cell_type": "markdown",
   "metadata": {},
   "source": [
    "$$f(x) = 3x^3 + x - 3$$"
   ]
  },
  {
   "cell_type": "markdown",
   "metadata": {},
   "source": [
    "##### Step1 :"
   ]
  },
  {
   "cell_type": "markdown",
   "metadata": {},
   "source": [
    "find a , b such that the product of f(a) and f(b) is -ve"
   ]
  },
  {
   "cell_type": "markdown",
   "metadata": {},
   "source": [
    "##### Step 2"
   ]
  },
  {
   "cell_type": "markdown",
   "metadata": {},
   "source": [
    "find mid value $$ mid = (a+b) / 2$$"
   ]
  },
  {
   "cell_type": "markdown",
   "metadata": {},
   "source": [
    "<img src=\"bisection.jpg\" />"
   ]
  },
  {
   "cell_type": "markdown",
   "metadata": {},
   "source": [
    "#### Implementation"
   ]
  },
  {
   "cell_type": "code",
   "execution_count": 20,
   "metadata": {},
   "outputs": [],
   "source": [
    "import numpy as np\n",
    "import pandas as pd\n",
    "import matplotlib.pyplot as plt"
   ]
  },
  {
   "cell_type": "code",
   "execution_count": 24,
   "metadata": {},
   "outputs": [],
   "source": [
    "def f(x):\n",
    "    return x**3 - 0.165*x**2 + 3.993 * 10 **-4"
   ]
  },
  {
   "cell_type": "code",
   "execution_count": 30,
   "metadata": {},
   "outputs": [],
   "source": [
    "def Bisection(a,b):\n",
    "    i = 0\n",
    "    while(np.abs(a-b))> 0.01:\n",
    "        mid = (a+b) /2\n",
    "\n",
    "        if(f(a) * f(mid)) < 0.001:\n",
    "            b = mid\n",
    "        else:\n",
    "            a = mid\n",
    "        i+=1\n",
    "        print('a : ', a, ' b : ',b ,' mid : ',mid)\n",
    "    return mid"
   ]
  },
  {
   "cell_type": "code",
   "execution_count": 31,
   "metadata": {},
   "outputs": [
    {
     "name": "stdout",
     "output_type": "stream",
     "text": [
      "a :  -2  b :  0.0  mid :  0.0\n",
      "a :  -1.0  b :  0.0  mid :  -1.0\n",
      "a :  -0.5  b :  0.0  mid :  -0.5\n",
      "a :  -0.25  b :  0.0  mid :  -0.25\n",
      "a :  -0.25  b :  -0.125  mid :  -0.125\n",
      "a :  -0.25  b :  -0.1875  mid :  -0.1875\n",
      "a :  -0.25  b :  -0.21875  mid :  -0.21875\n",
      "a :  -0.25  b :  -0.234375  mid :  -0.234375\n",
      "a :  -0.25  b :  -0.2421875  mid :  -0.2421875\n"
     ]
    }
   ],
   "source": [
    "root = Bisection(-2,2)"
   ]
  },
  {
   "cell_type": "code",
   "execution_count": 27,
   "metadata": {},
   "outputs": [
    {
     "data": {
      "image/png": "[encoded data removed]",
      "text/plain": [
       "<Figure size 432x288 with 1 Axes>"
      ]
     },
     "metadata": {
      "needs_background": "light"
     },
     "output_type": "display_data"
    }
   ],
   "source": [
    "plt.grid()\n",
    "plt.scatter(root, f(root))\n",
    "plt.show()"
   ]
  },
  {
   "cell_type": "markdown",
   "metadata": {},
   "source": [
    "<hr>"
   ]
  },
  {
   "cell_type": "markdown",
   "metadata": {},
   "source": [
    "### <font color=\"green\"> <center > Assembled & Compiled by : Hafiz Muhammad Waqas</center> </font>"
   ]
  }
 ],
 "metadata": {
  "kernelspec": {
   "display_name": "Python 3",
   "language": "python",
   "name": "python3"
  },
  "language_info": {
   "codemirror_mode": {
    "name": "ipython",
    "version": 3
   },
   "file_extension": ".py",
   "mimetype": "text/x-python",
   "name": "python",
   "nbconvert_exporter": "python",
   "pygments_lexer": "ipython3",
   "version": "3.8.3"
  }
 },
 "nbformat": 4,
 "nbformat_minor": 4
}
